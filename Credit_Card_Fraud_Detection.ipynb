{
  "nbformat": 4,
  "nbformat_minor": 0,
  "metadata": {
    "colab": {
      "provenance": [],
      "include_colab_link": true
    },
    "kernelspec": {
      "name": "python3",
      "display_name": "Python 3"
    },
    "language_info": {
      "name": "python"
    }
  },
  "cells": [
    {
      "cell_type": "markdown",
      "metadata": {
        "id": "view-in-github",
        "colab_type": "text"
      },
      "source": [
        "<a href=\"https://colab.research.google.com/github/Rohan7810/Codesoft/blob/main/Credit_Card_Fraud_Detection.ipynb\" target=\"_parent\"><img src=\"https://colab.research.google.com/assets/colab-badge.svg\" alt=\"Open In Colab\"/></a>"
      ]
    },
    {
      "cell_type": "code",
      "execution_count": null,
      "metadata": {
        "id": "rGxNqtBWAM86"
      },
      "outputs": [],
      "source": [
        "#ALL_Libraries\n",
        "import pandas as pd\n",
        "import numpy as np\n",
        "import matplotlib.pyplot as plt\n",
        "import seaborn as sns\n",
        "from sklearn.preprocessing import StandardScaler\n",
        "from sklearn.model_selection import train_test_split\n",
        "from sklearn.tree import DecisionTreeRegressor\n",
        "from sklearn.metrics import mean_squared_error\n",
        "from sklearn.linear_model import LogisticRegression\n",
        "from sklearn import metrics\n",
        "from sklearn.impute import SimpleImputer\n",
        "from matplotlib import gridspec\n",
        "from sklearn.ensemble import RandomForestClassifier\n",
        "from sklearn.metrics import confusion_matrix\n",
        "\n"
      ]
    },
    {
      "cell_type": "markdown",
      "source": [
        "Importing data set"
      ],
      "metadata": {
        "id": "tzHhP-kPg5Rx"
      }
    },
    {
      "cell_type": "code",
      "source": [
        "train_data = pd.read_csv('/content/train.csv')\n",
        "test_data = pd.read_csv('/content/test.csv')"
      ],
      "metadata": {
        "id": "r2D-0GnBAOcJ"
      },
      "execution_count": null,
      "outputs": []
    },
    {
      "cell_type": "markdown",
      "source": [
        "SHOWING THE STARTING VALUES"
      ],
      "metadata": {
        "id": "XCEGT-Tsg9Uw"
      }
    },
    {
      "cell_type": "code",
      "source": [
        "train_data.head()"
      ],
      "metadata": {
        "colab": {
          "base_uri": "https://localhost:8080/",
          "height": 299
        },
        "id": "35NUnVTWDbLL",
        "outputId": "9dc65146-2b9b-4fdc-abff-a2d34f1ceea6"
      },
      "execution_count": null,
      "outputs": [
        {
          "output_type": "execute_result",
          "data": {
            "text/plain": [
              "   id  Time        V1        V2        V3        V4        V5        V6  \\\n",
              "0   0   0.0  2.074329 -0.129425 -1.137418  0.412846 -0.192638 -1.210144   \n",
              "1   1   0.0  1.998827 -1.250891 -0.520969 -0.894539 -1.122528 -0.270866   \n",
              "2   2   0.0  0.091535  1.004517 -0.223445 -0.435249  0.667548 -0.988351   \n",
              "3   3   0.0  1.979649 -0.184949 -1.064206  0.120125 -0.215238 -0.648829   \n",
              "4   4   0.0  1.025898 -0.171827  1.203717  1.243900 -0.636572  1.099074   \n",
              "\n",
              "         V7        V8  ...       V21       V22       V23       V24       V25  \\\n",
              "0  0.110697 -0.263477  ... -0.334701 -0.887840  0.336701 -0.110835 -0.291459   \n",
              "1 -1.029289  0.050198  ...  0.054848 -0.038367  0.133518 -0.461928 -0.465491   \n",
              "2  0.948146 -0.084789  ... -0.326725 -0.803736  0.154495  0.951233 -0.506919   \n",
              "3 -0.087826 -0.035367  ... -0.095514 -0.079792  0.167701 -0.042939  0.000799   \n",
              "4 -0.938651  0.569239  ...  0.099157  0.608908  0.027901 -0.262813  0.257834   \n",
              "\n",
              "        V26       V27       V28  Amount  Class  \n",
              "0  0.207733 -0.076576 -0.059577    1.98      0  \n",
              "1 -0.464655 -0.009413 -0.038238   84.00      0  \n",
              "2  0.085046  0.224458  0.087356    2.69      0  \n",
              "3 -0.096148 -0.057780 -0.073839    1.00      0  \n",
              "4 -0.252829  0.108338  0.021051    1.00      0  \n",
              "\n",
              "[5 rows x 32 columns]"
            ],
            "text/html": [
              "\n",
              "  <div id=\"df-f0b3c275-7ed5-4e72-89f4-f3f573966bea\">\n",
              "    <div class=\"colab-df-container\">\n",
              "      <div>\n",
              "<style scoped>\n",
              "    .dataframe tbody tr th:only-of-type {\n",
              "        vertical-align: middle;\n",
              "    }\n",
              "\n",
              "    .dataframe tbody tr th {\n",
              "        vertical-align: top;\n",
              "    }\n",
              "\n",
              "    .dataframe thead th {\n",
              "        text-align: right;\n",
              "    }\n",
              "</style>\n",
              "<table border=\"1\" class=\"dataframe\">\n",
              "  <thead>\n",
              "    <tr style=\"text-align: right;\">\n",
              "      <th></th>\n",
              "      <th>id</th>\n",
              "      <th>Time</th>\n",
              "      <th>V1</th>\n",
              "      <th>V2</th>\n",
              "      <th>V3</th>\n",
              "      <th>V4</th>\n",
              "      <th>V5</th>\n",
              "      <th>V6</th>\n",
              "      <th>V7</th>\n",
              "      <th>V8</th>\n",
              "      <th>...</th>\n",
              "      <th>V21</th>\n",
              "      <th>V22</th>\n",
              "      <th>V23</th>\n",
              "      <th>V24</th>\n",
              "      <th>V25</th>\n",
              "      <th>V26</th>\n",
              "      <th>V27</th>\n",
              "      <th>V28</th>\n",
              "      <th>Amount</th>\n",
              "      <th>Class</th>\n",
              "    </tr>\n",
              "  </thead>\n",
              "  <tbody>\n",
              "    <tr>\n",
              "      <th>0</th>\n",
              "      <td>0</td>\n",
              "      <td>0.0</td>\n",
              "      <td>2.074329</td>\n",
              "      <td>-0.129425</td>\n",
              "      <td>-1.137418</td>\n",
              "      <td>0.412846</td>\n",
              "      <td>-0.192638</td>\n",
              "      <td>-1.210144</td>\n",
              "      <td>0.110697</td>\n",
              "      <td>-0.263477</td>\n",
              "      <td>...</td>\n",
              "      <td>-0.334701</td>\n",
              "      <td>-0.887840</td>\n",
              "      <td>0.336701</td>\n",
              "      <td>-0.110835</td>\n",
              "      <td>-0.291459</td>\n",
              "      <td>0.207733</td>\n",
              "      <td>-0.076576</td>\n",
              "      <td>-0.059577</td>\n",
              "      <td>1.98</td>\n",
              "      <td>0</td>\n",
              "    </tr>\n",
              "    <tr>\n",
              "      <th>1</th>\n",
              "      <td>1</td>\n",
              "      <td>0.0</td>\n",
              "      <td>1.998827</td>\n",
              "      <td>-1.250891</td>\n",
              "      <td>-0.520969</td>\n",
              "      <td>-0.894539</td>\n",
              "      <td>-1.122528</td>\n",
              "      <td>-0.270866</td>\n",
              "      <td>-1.029289</td>\n",
              "      <td>0.050198</td>\n",
              "      <td>...</td>\n",
              "      <td>0.054848</td>\n",
              "      <td>-0.038367</td>\n",
              "      <td>0.133518</td>\n",
              "      <td>-0.461928</td>\n",
              "      <td>-0.465491</td>\n",
              "      <td>-0.464655</td>\n",
              "      <td>-0.009413</td>\n",
              "      <td>-0.038238</td>\n",
              "      <td>84.00</td>\n",
              "      <td>0</td>\n",
              "    </tr>\n",
              "    <tr>\n",
              "      <th>2</th>\n",
              "      <td>2</td>\n",
              "      <td>0.0</td>\n",
              "      <td>0.091535</td>\n",
              "      <td>1.004517</td>\n",
              "      <td>-0.223445</td>\n",
              "      <td>-0.435249</td>\n",
              "      <td>0.667548</td>\n",
              "      <td>-0.988351</td>\n",
              "      <td>0.948146</td>\n",
              "      <td>-0.084789</td>\n",
              "      <td>...</td>\n",
              "      <td>-0.326725</td>\n",
              "      <td>-0.803736</td>\n",
              "      <td>0.154495</td>\n",
              "      <td>0.951233</td>\n",
              "      <td>-0.506919</td>\n",
              "      <td>0.085046</td>\n",
              "      <td>0.224458</td>\n",
              "      <td>0.087356</td>\n",
              "      <td>2.69</td>\n",
              "      <td>0</td>\n",
              "    </tr>\n",
              "    <tr>\n",
              "      <th>3</th>\n",
              "      <td>3</td>\n",
              "      <td>0.0</td>\n",
              "      <td>1.979649</td>\n",
              "      <td>-0.184949</td>\n",
              "      <td>-1.064206</td>\n",
              "      <td>0.120125</td>\n",
              "      <td>-0.215238</td>\n",
              "      <td>-0.648829</td>\n",
              "      <td>-0.087826</td>\n",
              "      <td>-0.035367</td>\n",
              "      <td>...</td>\n",
              "      <td>-0.095514</td>\n",
              "      <td>-0.079792</td>\n",
              "      <td>0.167701</td>\n",
              "      <td>-0.042939</td>\n",
              "      <td>0.000799</td>\n",
              "      <td>-0.096148</td>\n",
              "      <td>-0.057780</td>\n",
              "      <td>-0.073839</td>\n",
              "      <td>1.00</td>\n",
              "      <td>0</td>\n",
              "    </tr>\n",
              "    <tr>\n",
              "      <th>4</th>\n",
              "      <td>4</td>\n",
              "      <td>0.0</td>\n",
              "      <td>1.025898</td>\n",
              "      <td>-0.171827</td>\n",
              "      <td>1.203717</td>\n",
              "      <td>1.243900</td>\n",
              "      <td>-0.636572</td>\n",
              "      <td>1.099074</td>\n",
              "      <td>-0.938651</td>\n",
              "      <td>0.569239</td>\n",
              "      <td>...</td>\n",
              "      <td>0.099157</td>\n",
              "      <td>0.608908</td>\n",
              "      <td>0.027901</td>\n",
              "      <td>-0.262813</td>\n",
              "      <td>0.257834</td>\n",
              "      <td>-0.252829</td>\n",
              "      <td>0.108338</td>\n",
              "      <td>0.021051</td>\n",
              "      <td>1.00</td>\n",
              "      <td>0</td>\n",
              "    </tr>\n",
              "  </tbody>\n",
              "</table>\n",
              "<p>5 rows × 32 columns</p>\n",
              "</div>\n",
              "      <button class=\"colab-df-convert\" onclick=\"convertToInteractive('df-f0b3c275-7ed5-4e72-89f4-f3f573966bea')\"\n",
              "              title=\"Convert this dataframe to an interactive table.\"\n",
              "              style=\"display:none;\">\n",
              "        \n",
              "  <svg xmlns=\"http://www.w3.org/2000/svg\" height=\"24px\"viewBox=\"0 0 24 24\"\n",
              "       width=\"24px\">\n",
              "    <path d=\"M0 0h24v24H0V0z\" fill=\"none\"/>\n",
              "    <path d=\"M18.56 5.44l.94 2.06.94-2.06 2.06-.94-2.06-.94-.94-2.06-.94 2.06-2.06.94zm-11 1L8.5 8.5l.94-2.06 2.06-.94-2.06-.94L8.5 2.5l-.94 2.06-2.06.94zm10 10l.94 2.06.94-2.06 2.06-.94-2.06-.94-.94-2.06-.94 2.06-2.06.94z\"/><path d=\"M17.41 7.96l-1.37-1.37c-.4-.4-.92-.59-1.43-.59-.52 0-1.04.2-1.43.59L10.3 9.45l-7.72 7.72c-.78.78-.78 2.05 0 2.83L4 21.41c.39.39.9.59 1.41.59.51 0 1.02-.2 1.41-.59l7.78-7.78 2.81-2.81c.8-.78.8-2.07 0-2.86zM5.41 20L4 18.59l7.72-7.72 1.47 1.35L5.41 20z\"/>\n",
              "  </svg>\n",
              "      </button>\n",
              "      \n",
              "  <style>\n",
              "    .colab-df-container {\n",
              "      display:flex;\n",
              "      flex-wrap:wrap;\n",
              "      gap: 12px;\n",
              "    }\n",
              "\n",
              "    .colab-df-convert {\n",
              "      background-color: #E8F0FE;\n",
              "      border: none;\n",
              "      border-radius: 50%;\n",
              "      cursor: pointer;\n",
              "      display: none;\n",
              "      fill: #1967D2;\n",
              "      height: 32px;\n",
              "      padding: 0 0 0 0;\n",
              "      width: 32px;\n",
              "    }\n",
              "\n",
              "    .colab-df-convert:hover {\n",
              "      background-color: #E2EBFA;\n",
              "      box-shadow: 0px 1px 2px rgba(60, 64, 67, 0.3), 0px 1px 3px 1px rgba(60, 64, 67, 0.15);\n",
              "      fill: #174EA6;\n",
              "    }\n",
              "\n",
              "    [theme=dark] .colab-df-convert {\n",
              "      background-color: #3B4455;\n",
              "      fill: #D2E3FC;\n",
              "    }\n",
              "\n",
              "    [theme=dark] .colab-df-convert:hover {\n",
              "      background-color: #434B5C;\n",
              "      box-shadow: 0px 1px 3px 1px rgba(0, 0, 0, 0.15);\n",
              "      filter: drop-shadow(0px 1px 2px rgba(0, 0, 0, 0.3));\n",
              "      fill: #FFFFFF;\n",
              "    }\n",
              "  </style>\n",
              "\n",
              "      <script>\n",
              "        const buttonEl =\n",
              "          document.querySelector('#df-f0b3c275-7ed5-4e72-89f4-f3f573966bea button.colab-df-convert');\n",
              "        buttonEl.style.display =\n",
              "          google.colab.kernel.accessAllowed ? 'block' : 'none';\n",
              "\n",
              "        async function convertToInteractive(key) {\n",
              "          const element = document.querySelector('#df-f0b3c275-7ed5-4e72-89f4-f3f573966bea');\n",
              "          const dataTable =\n",
              "            await google.colab.kernel.invokeFunction('convertToInteractive',\n",
              "                                                     [key], {});\n",
              "          if (!dataTable) return;\n",
              "\n",
              "          const docLinkHtml = 'Like what you see? Visit the ' +\n",
              "            '<a target=\"_blank\" href=https://colab.research.google.com/notebooks/data_table.ipynb>data table notebook</a>'\n",
              "            + ' to learn more about interactive tables.';\n",
              "          element.innerHTML = '';\n",
              "          dataTable['output_type'] = 'display_data';\n",
              "          await google.colab.output.renderOutput(dataTable, element);\n",
              "          const docLink = document.createElement('div');\n",
              "          docLink.innerHTML = docLinkHtml;\n",
              "          element.appendChild(docLink);\n",
              "        }\n",
              "      </script>\n",
              "    </div>\n",
              "  </div>\n",
              "  "
            ]
          },
          "metadata": {},
          "execution_count": 5
        }
      ]
    },
    {
      "cell_type": "code",
      "source": [
        "test_data.head()"
      ],
      "metadata": {
        "colab": {
          "base_uri": "https://localhost:8080/",
          "height": 299
        },
        "id": "WJZ9BNsCDb03",
        "outputId": "5cb892ad-0b63-4115-8dae-5720ab21c2e3"
      },
      "execution_count": null,
      "outputs": [
        {
          "output_type": "execute_result",
          "data": {
            "text/plain": [
              "       id      Time        V1        V2        V3        V4        V5  \\\n",
              "0  219129  120580.0  2.115519 -0.691809 -1.305514 -0.685655 -0.641265   \n",
              "1  219130  120580.0  1.743525 -1.681429 -0.547387 -1.061113 -0.695825   \n",
              "2  219131  120580.0  2.205568 -1.571445 -0.238965 -1.662517 -1.652324   \n",
              "3  219132  120580.0  1.989728 -0.972909 -1.938259 -1.440129 -0.166855   \n",
              "4  219133  120580.0 -1.943548 -1.668761  0.363601 -0.977610  2.684779   \n",
              "\n",
              "         V6        V7        V8  ...       V20       V21       V22       V23  \\\n",
              "0 -0.764784 -0.924262 -0.023030  ...  0.067367  0.241708  0.682524  0.037769   \n",
              "1  2.458824 -1.632859  1.073529  ...  0.441788  0.543278  1.294571  0.309541   \n",
              "2 -0.054701 -1.682064  0.105613  ... -0.366906 -0.131527  0.086623  0.291375   \n",
              "3 -0.794048  0.252889 -0.399789  ... -0.049136 -0.080115 -0.010732 -0.038550   \n",
              "4 -2.037681  0.039709 -0.048895  ...  0.391627  0.083389 -0.306918  0.247822   \n",
              "\n",
              "        V24       V25       V26       V27       V28  Amount  \n",
              "0 -0.546859 -0.123055 -0.084889  0.004720 -0.021944   29.95  \n",
              "1  3.703925 -0.242579  0.068708  0.002629  0.064690  163.50  \n",
              "2  0.739087 -0.543006 -0.297813  0.043699 -0.037855   16.00  \n",
              "3  0.656830  0.343470 -0.627529 -0.024338 -0.036143  120.98  \n",
              "4 -0.391799 -0.790716 -0.025706  0.330758  0.335537    1.98  \n",
              "\n",
              "[5 rows x 31 columns]"
            ],
            "text/html": [
              "\n",
              "  <div id=\"df-67f41712-3f13-4ec7-8419-868e9582ae47\">\n",
              "    <div class=\"colab-df-container\">\n",
              "      <div>\n",
              "<style scoped>\n",
              "    .dataframe tbody tr th:only-of-type {\n",
              "        vertical-align: middle;\n",
              "    }\n",
              "\n",
              "    .dataframe tbody tr th {\n",
              "        vertical-align: top;\n",
              "    }\n",
              "\n",
              "    .dataframe thead th {\n",
              "        text-align: right;\n",
              "    }\n",
              "</style>\n",
              "<table border=\"1\" class=\"dataframe\">\n",
              "  <thead>\n",
              "    <tr style=\"text-align: right;\">\n",
              "      <th></th>\n",
              "      <th>id</th>\n",
              "      <th>Time</th>\n",
              "      <th>V1</th>\n",
              "      <th>V2</th>\n",
              "      <th>V3</th>\n",
              "      <th>V4</th>\n",
              "      <th>V5</th>\n",
              "      <th>V6</th>\n",
              "      <th>V7</th>\n",
              "      <th>V8</th>\n",
              "      <th>...</th>\n",
              "      <th>V20</th>\n",
              "      <th>V21</th>\n",
              "      <th>V22</th>\n",
              "      <th>V23</th>\n",
              "      <th>V24</th>\n",
              "      <th>V25</th>\n",
              "      <th>V26</th>\n",
              "      <th>V27</th>\n",
              "      <th>V28</th>\n",
              "      <th>Amount</th>\n",
              "    </tr>\n",
              "  </thead>\n",
              "  <tbody>\n",
              "    <tr>\n",
              "      <th>0</th>\n",
              "      <td>219129</td>\n",
              "      <td>120580.0</td>\n",
              "      <td>2.115519</td>\n",
              "      <td>-0.691809</td>\n",
              "      <td>-1.305514</td>\n",
              "      <td>-0.685655</td>\n",
              "      <td>-0.641265</td>\n",
              "      <td>-0.764784</td>\n",
              "      <td>-0.924262</td>\n",
              "      <td>-0.023030</td>\n",
              "      <td>...</td>\n",
              "      <td>0.067367</td>\n",
              "      <td>0.241708</td>\n",
              "      <td>0.682524</td>\n",
              "      <td>0.037769</td>\n",
              "      <td>-0.546859</td>\n",
              "      <td>-0.123055</td>\n",
              "      <td>-0.084889</td>\n",
              "      <td>0.004720</td>\n",
              "      <td>-0.021944</td>\n",
              "      <td>29.95</td>\n",
              "    </tr>\n",
              "    <tr>\n",
              "      <th>1</th>\n",
              "      <td>219130</td>\n",
              "      <td>120580.0</td>\n",
              "      <td>1.743525</td>\n",
              "      <td>-1.681429</td>\n",
              "      <td>-0.547387</td>\n",
              "      <td>-1.061113</td>\n",
              "      <td>-0.695825</td>\n",
              "      <td>2.458824</td>\n",
              "      <td>-1.632859</td>\n",
              "      <td>1.073529</td>\n",
              "      <td>...</td>\n",
              "      <td>0.441788</td>\n",
              "      <td>0.543278</td>\n",
              "      <td>1.294571</td>\n",
              "      <td>0.309541</td>\n",
              "      <td>3.703925</td>\n",
              "      <td>-0.242579</td>\n",
              "      <td>0.068708</td>\n",
              "      <td>0.002629</td>\n",
              "      <td>0.064690</td>\n",
              "      <td>163.50</td>\n",
              "    </tr>\n",
              "    <tr>\n",
              "      <th>2</th>\n",
              "      <td>219131</td>\n",
              "      <td>120580.0</td>\n",
              "      <td>2.205568</td>\n",
              "      <td>-1.571445</td>\n",
              "      <td>-0.238965</td>\n",
              "      <td>-1.662517</td>\n",
              "      <td>-1.652324</td>\n",
              "      <td>-0.054701</td>\n",
              "      <td>-1.682064</td>\n",
              "      <td>0.105613</td>\n",
              "      <td>...</td>\n",
              "      <td>-0.366906</td>\n",
              "      <td>-0.131527</td>\n",
              "      <td>0.086623</td>\n",
              "      <td>0.291375</td>\n",
              "      <td>0.739087</td>\n",
              "      <td>-0.543006</td>\n",
              "      <td>-0.297813</td>\n",
              "      <td>0.043699</td>\n",
              "      <td>-0.037855</td>\n",
              "      <td>16.00</td>\n",
              "    </tr>\n",
              "    <tr>\n",
              "      <th>3</th>\n",
              "      <td>219132</td>\n",
              "      <td>120580.0</td>\n",
              "      <td>1.989728</td>\n",
              "      <td>-0.972909</td>\n",
              "      <td>-1.938259</td>\n",
              "      <td>-1.440129</td>\n",
              "      <td>-0.166855</td>\n",
              "      <td>-0.794048</td>\n",
              "      <td>0.252889</td>\n",
              "      <td>-0.399789</td>\n",
              "      <td>...</td>\n",
              "      <td>-0.049136</td>\n",
              "      <td>-0.080115</td>\n",
              "      <td>-0.010732</td>\n",
              "      <td>-0.038550</td>\n",
              "      <td>0.656830</td>\n",
              "      <td>0.343470</td>\n",
              "      <td>-0.627529</td>\n",
              "      <td>-0.024338</td>\n",
              "      <td>-0.036143</td>\n",
              "      <td>120.98</td>\n",
              "    </tr>\n",
              "    <tr>\n",
              "      <th>4</th>\n",
              "      <td>219133</td>\n",
              "      <td>120580.0</td>\n",
              "      <td>-1.943548</td>\n",
              "      <td>-1.668761</td>\n",
              "      <td>0.363601</td>\n",
              "      <td>-0.977610</td>\n",
              "      <td>2.684779</td>\n",
              "      <td>-2.037681</td>\n",
              "      <td>0.039709</td>\n",
              "      <td>-0.048895</td>\n",
              "      <td>...</td>\n",
              "      <td>0.391627</td>\n",
              "      <td>0.083389</td>\n",
              "      <td>-0.306918</td>\n",
              "      <td>0.247822</td>\n",
              "      <td>-0.391799</td>\n",
              "      <td>-0.790716</td>\n",
              "      <td>-0.025706</td>\n",
              "      <td>0.330758</td>\n",
              "      <td>0.335537</td>\n",
              "      <td>1.98</td>\n",
              "    </tr>\n",
              "  </tbody>\n",
              "</table>\n",
              "<p>5 rows × 31 columns</p>\n",
              "</div>\n",
              "      <button class=\"colab-df-convert\" onclick=\"convertToInteractive('df-67f41712-3f13-4ec7-8419-868e9582ae47')\"\n",
              "              title=\"Convert this dataframe to an interactive table.\"\n",
              "              style=\"display:none;\">\n",
              "        \n",
              "  <svg xmlns=\"http://www.w3.org/2000/svg\" height=\"24px\"viewBox=\"0 0 24 24\"\n",
              "       width=\"24px\">\n",
              "    <path d=\"M0 0h24v24H0V0z\" fill=\"none\"/>\n",
              "    <path d=\"M18.56 5.44l.94 2.06.94-2.06 2.06-.94-2.06-.94-.94-2.06-.94 2.06-2.06.94zm-11 1L8.5 8.5l.94-2.06 2.06-.94-2.06-.94L8.5 2.5l-.94 2.06-2.06.94zm10 10l.94 2.06.94-2.06 2.06-.94-2.06-.94-.94-2.06-.94 2.06-2.06.94z\"/><path d=\"M17.41 7.96l-1.37-1.37c-.4-.4-.92-.59-1.43-.59-.52 0-1.04.2-1.43.59L10.3 9.45l-7.72 7.72c-.78.78-.78 2.05 0 2.83L4 21.41c.39.39.9.59 1.41.59.51 0 1.02-.2 1.41-.59l7.78-7.78 2.81-2.81c.8-.78.8-2.07 0-2.86zM5.41 20L4 18.59l7.72-7.72 1.47 1.35L5.41 20z\"/>\n",
              "  </svg>\n",
              "      </button>\n",
              "      \n",
              "  <style>\n",
              "    .colab-df-container {\n",
              "      display:flex;\n",
              "      flex-wrap:wrap;\n",
              "      gap: 12px;\n",
              "    }\n",
              "\n",
              "    .colab-df-convert {\n",
              "      background-color: #E8F0FE;\n",
              "      border: none;\n",
              "      border-radius: 50%;\n",
              "      cursor: pointer;\n",
              "      display: none;\n",
              "      fill: #1967D2;\n",
              "      height: 32px;\n",
              "      padding: 0 0 0 0;\n",
              "      width: 32px;\n",
              "    }\n",
              "\n",
              "    .colab-df-convert:hover {\n",
              "      background-color: #E2EBFA;\n",
              "      box-shadow: 0px 1px 2px rgba(60, 64, 67, 0.3), 0px 1px 3px 1px rgba(60, 64, 67, 0.15);\n",
              "      fill: #174EA6;\n",
              "    }\n",
              "\n",
              "    [theme=dark] .colab-df-convert {\n",
              "      background-color: #3B4455;\n",
              "      fill: #D2E3FC;\n",
              "    }\n",
              "\n",
              "    [theme=dark] .colab-df-convert:hover {\n",
              "      background-color: #434B5C;\n",
              "      box-shadow: 0px 1px 3px 1px rgba(0, 0, 0, 0.15);\n",
              "      filter: drop-shadow(0px 1px 2px rgba(0, 0, 0, 0.3));\n",
              "      fill: #FFFFFF;\n",
              "    }\n",
              "  </style>\n",
              "\n",
              "      <script>\n",
              "        const buttonEl =\n",
              "          document.querySelector('#df-67f41712-3f13-4ec7-8419-868e9582ae47 button.colab-df-convert');\n",
              "        buttonEl.style.display =\n",
              "          google.colab.kernel.accessAllowed ? 'block' : 'none';\n",
              "\n",
              "        async function convertToInteractive(key) {\n",
              "          const element = document.querySelector('#df-67f41712-3f13-4ec7-8419-868e9582ae47');\n",
              "          const dataTable =\n",
              "            await google.colab.kernel.invokeFunction('convertToInteractive',\n",
              "                                                     [key], {});\n",
              "          if (!dataTable) return;\n",
              "\n",
              "          const docLinkHtml = 'Like what you see? Visit the ' +\n",
              "            '<a target=\"_blank\" href=https://colab.research.google.com/notebooks/data_table.ipynb>data table notebook</a>'\n",
              "            + ' to learn more about interactive tables.';\n",
              "          element.innerHTML = '';\n",
              "          dataTable['output_type'] = 'display_data';\n",
              "          await google.colab.output.renderOutput(dataTable, element);\n",
              "          const docLink = document.createElement('div');\n",
              "          docLink.innerHTML = docLinkHtml;\n",
              "          element.appendChild(docLink);\n",
              "        }\n",
              "      </script>\n",
              "    </div>\n",
              "  </div>\n",
              "  "
            ]
          },
          "metadata": {},
          "execution_count": 6
        }
      ]
    },
    {
      "cell_type": "code",
      "source": [
        "train_data.info()"
      ],
      "metadata": {
        "colab": {
          "base_uri": "https://localhost:8080/"
        },
        "id": "4zyOrM5DDlBT",
        "outputId": "4f812ee8-cf1b-4666-b76f-c038aa3adb6c"
      },
      "execution_count": null,
      "outputs": [
        {
          "output_type": "stream",
          "name": "stdout",
          "text": [
            "<class 'pandas.core.frame.DataFrame'>\n",
            "RangeIndex: 219129 entries, 0 to 219128\n",
            "Data columns (total 32 columns):\n",
            " #   Column  Non-Null Count   Dtype  \n",
            "---  ------  --------------   -----  \n",
            " 0   id      219129 non-null  int64  \n",
            " 1   Time    219129 non-null  float64\n",
            " 2   V1      219129 non-null  float64\n",
            " 3   V2      219129 non-null  float64\n",
            " 4   V3      219129 non-null  float64\n",
            " 5   V4      219129 non-null  float64\n",
            " 6   V5      219129 non-null  float64\n",
            " 7   V6      219129 non-null  float64\n",
            " 8   V7      219129 non-null  float64\n",
            " 9   V8      219129 non-null  float64\n",
            " 10  V9      219129 non-null  float64\n",
            " 11  V10     219129 non-null  float64\n",
            " 12  V11     219129 non-null  float64\n",
            " 13  V12     219129 non-null  float64\n",
            " 14  V13     219129 non-null  float64\n",
            " 15  V14     219129 non-null  float64\n",
            " 16  V15     219129 non-null  float64\n",
            " 17  V16     219129 non-null  float64\n",
            " 18  V17     219129 non-null  float64\n",
            " 19  V18     219129 non-null  float64\n",
            " 20  V19     219129 non-null  float64\n",
            " 21  V20     219129 non-null  float64\n",
            " 22  V21     219129 non-null  float64\n",
            " 23  V22     219129 non-null  float64\n",
            " 24  V23     219129 non-null  float64\n",
            " 25  V24     219129 non-null  float64\n",
            " 26  V25     219129 non-null  float64\n",
            " 27  V26     219129 non-null  float64\n",
            " 28  V27     219129 non-null  float64\n",
            " 29  V28     219129 non-null  float64\n",
            " 30  Amount  219129 non-null  float64\n",
            " 31  Class   219129 non-null  int64  \n",
            "dtypes: float64(30), int64(2)\n",
            "memory usage: 53.5 MB\n"
          ]
        }
      ]
    },
    {
      "cell_type": "code",
      "source": [
        "test_data.info()"
      ],
      "metadata": {
        "colab": {
          "base_uri": "https://localhost:8080/"
        },
        "id": "Z0WRRmWBDlr5",
        "outputId": "6c03b1c8-a1ed-4551-e676-51e394244e64"
      },
      "execution_count": null,
      "outputs": [
        {
          "output_type": "stream",
          "name": "stdout",
          "text": [
            "<class 'pandas.core.frame.DataFrame'>\n",
            "RangeIndex: 146087 entries, 0 to 146086\n",
            "Data columns (total 31 columns):\n",
            " #   Column  Non-Null Count   Dtype  \n",
            "---  ------  --------------   -----  \n",
            " 0   id      146087 non-null  int64  \n",
            " 1   Time    146087 non-null  float64\n",
            " 2   V1      146087 non-null  float64\n",
            " 3   V2      146087 non-null  float64\n",
            " 4   V3      146087 non-null  float64\n",
            " 5   V4      146087 non-null  float64\n",
            " 6   V5      146087 non-null  float64\n",
            " 7   V6      146087 non-null  float64\n",
            " 8   V7      146087 non-null  float64\n",
            " 9   V8      146087 non-null  float64\n",
            " 10  V9      146087 non-null  float64\n",
            " 11  V10     146087 non-null  float64\n",
            " 12  V11     146087 non-null  float64\n",
            " 13  V12     146087 non-null  float64\n",
            " 14  V13     146087 non-null  float64\n",
            " 15  V14     146087 non-null  float64\n",
            " 16  V15     146087 non-null  float64\n",
            " 17  V16     146087 non-null  float64\n",
            " 18  V17     146087 non-null  float64\n",
            " 19  V18     146087 non-null  float64\n",
            " 20  V19     146087 non-null  float64\n",
            " 21  V20     146087 non-null  float64\n",
            " 22  V21     146087 non-null  float64\n",
            " 23  V22     146087 non-null  float64\n",
            " 24  V23     146087 non-null  float64\n",
            " 25  V24     146087 non-null  float64\n",
            " 26  V25     146087 non-null  float64\n",
            " 27  V26     146087 non-null  float64\n",
            " 28  V27     146087 non-null  float64\n",
            " 29  V28     146087 non-null  float64\n",
            " 30  Amount  146087 non-null  float64\n",
            "dtypes: float64(30), int64(1)\n",
            "memory usage: 34.6 MB\n"
          ]
        }
      ]
    },
    {
      "cell_type": "code",
      "source": [
        "print(train_data.shape)\n",
        "print(train_data.describe())"
      ],
      "metadata": {
        "colab": {
          "base_uri": "https://localhost:8080/"
        },
        "id": "7Sr8Ev9qDuNZ",
        "outputId": "e120e331-9a54-4f27-aec8-6f49c354da3b"
      },
      "execution_count": null,
      "outputs": [
        {
          "output_type": "stream",
          "name": "stdout",
          "text": [
            "(219129, 32)\n",
            "                  id           Time             V1             V2  \\\n",
            "count  219129.000000  219129.000000  219129.000000  219129.000000   \n",
            "mean   109564.000000   62377.415376       0.096008       0.048345   \n",
            "std     63257.237906   25620.348569       1.395425       1.159805   \n",
            "min         0.000000       0.000000     -29.807725     -44.247914   \n",
            "25%     54782.000000   47933.000000      -0.846135      -0.573728   \n",
            "50%    109564.000000   63189.000000       0.385913       0.046937   \n",
            "75%    164346.000000   77519.000000       1.190661       0.814145   \n",
            "max    219128.000000  120580.000000       2.430494      16.068473   \n",
            "\n",
            "                  V3             V4             V5             V6  \\\n",
            "count  219129.000000  219129.000000  219129.000000  219129.000000   \n",
            "mean        0.592102       0.069273      -0.161555       0.133688   \n",
            "std         1.132884       1.253125       1.069530       1.202411   \n",
            "min       -19.722872      -5.263650     -37.591259     -25.659750   \n",
            "25%        -0.027154      -0.769256      -0.847346      -0.631835   \n",
            "50%         0.735895       0.064856      -0.229929      -0.087778   \n",
            "75%         1.306110       0.919353       0.356856       0.482388   \n",
            "max         6.145578      12.547997      34.581260      16.233967   \n",
            "\n",
            "                  V7             V8  ...            V21            V22  \\\n",
            "count  219129.000000  219129.000000  ...  219129.000000  219129.000000   \n",
            "mean       -0.128224       0.149534  ...      -0.031064      -0.050852   \n",
            "std         0.817207       0.716212  ...       0.422777       0.597812   \n",
            "min       -31.179799     -28.903442  ...     -14.689621      -8.748979   \n",
            "25%        -0.646730      -0.095948  ...      -0.190418      -0.473099   \n",
            "50%        -0.098970       0.111219  ...      -0.042858      -0.032856   \n",
            "75%         0.385567       0.390976  ...       0.109187       0.354910   \n",
            "max        39.824099      18.270586  ...      22.062945       6.163541   \n",
            "\n",
            "                 V23            V24            V25            V26  \\\n",
            "count  219129.000000  219129.000000  219129.000000  219129.000000   \n",
            "mean       -0.050531      -0.002992       0.124005       0.009881   \n",
            "std         0.318175       0.593100       0.406741       0.473867   \n",
            "min       -11.958588      -2.836285      -3.958591      -1.858672   \n",
            "25%        -0.174478      -0.332540      -0.126080      -0.318330   \n",
            "50%        -0.063307       0.038708       0.145934      -0.086388   \n",
            "75%         0.060221       0.394566       0.402926       0.253869   \n",
            "max        12.734391       4.572739       3.111624       3.402344   \n",
            "\n",
            "                 V27            V28         Amount          Class  \n",
            "count  219129.000000  219129.000000  219129.000000  219129.000000  \n",
            "mean        0.014034       0.017313      66.359803       0.002140  \n",
            "std         0.233355       0.164859     150.795017       0.046214  \n",
            "min        -9.234767      -4.551680       0.000000       0.000000  \n",
            "25%        -0.050983      -0.009512       5.990000       0.000000  \n",
            "50%         0.015905       0.022163      21.900000       0.000000  \n",
            "75%         0.076814       0.066987      68.930000       0.000000  \n",
            "max        13.123618      23.263746    7475.000000       1.000000  \n",
            "\n",
            "[8 rows x 32 columns]\n"
          ]
        }
      ]
    },
    {
      "cell_type": "code",
      "source": [
        "print(test_data.shape)\n",
        "print(test_data.describe())"
      ],
      "metadata": {
        "colab": {
          "base_uri": "https://localhost:8080/"
        },
        "id": "9i7LMW63Du1Q",
        "outputId": "4ca4bcb3-d10a-4e15-d639-deed3ff57399"
      },
      "execution_count": null,
      "outputs": [
        {
          "output_type": "stream",
          "name": "stdout",
          "text": [
            "(146087, 31)\n",
            "                  id           Time             V1             V2  \\\n",
            "count  146087.000000  146087.000000  146087.000000  146087.000000   \n",
            "mean   292172.000000  144637.928166       0.512929      -0.013098   \n",
            "std     42171.828725   14258.025396       1.628455       1.247749   \n",
            "min    219129.000000  120580.000000     -34.755944     -37.803827   \n",
            "25%    255650.500000  132698.000000      -0.679988      -0.715885   \n",
            "50%    292172.000000  144493.000000       0.285798       0.009058   \n",
            "75%    328693.500000  156140.000000       1.974015       0.827420   \n",
            "max    365215.000000  172790.000000       2.452901      12.390128   \n",
            "\n",
            "                  V3             V4             V5             V6  \\\n",
            "count  146087.000000  146087.000000  146087.000000  146087.000000   \n",
            "mean       -0.697478      -0.273258       0.321856      -0.050204   \n",
            "std         1.292522       1.365752       1.146215       1.332880   \n",
            "min       -18.934952      -5.497560     -25.639591     -14.133040   \n",
            "25%        -1.619268      -1.021205      -0.418547      -0.891441   \n",
            "50%        -0.719060      -0.482945       0.306851      -0.372813   \n",
            "75%         0.073874       0.369725       0.955997       0.302724   \n",
            "max         4.492640      11.232928      24.352818      16.596635   \n",
            "\n",
            "                  V7             V8  ...            V20            V21  \\\n",
            "count  146087.000000  146087.000000  ...  146087.000000  146087.000000   \n",
            "mean        0.073419       0.043803  ...      -0.056678       0.044729   \n",
            "std         0.946681       0.749513  ...       0.458364       0.449017   \n",
            "min       -18.715915     -26.926164  ...     -26.412867     -13.087263   \n",
            "25%        -0.570042      -0.231824  ...      -0.237529      -0.166715   \n",
            "50%         0.118545       0.014979  ...      -0.096729       0.058393   \n",
            "75%         0.734503       0.296969  ...       0.065753       0.244817   \n",
            "max        27.023955      12.098322  ...      15.829261      15.333546   \n",
            "\n",
            "                 V22            V23            V24            V25  \\\n",
            "count  146087.000000  146087.000000  146087.000000  146087.000000   \n",
            "mean        0.175461       0.018471       0.016029      -0.118352   \n",
            "std         0.710704       0.359597       0.633929       0.479720   \n",
            "min        -5.392649     -12.814296      -2.789084      -3.361564   \n",
            "25%        -0.393667      -0.135059      -0.368957      -0.409938   \n",
            "50%         0.250169       0.017835       0.029727      -0.142325   \n",
            "75%         0.749555       0.167514       0.562138       0.182937   \n",
            "max         5.771245      17.481609       4.541724       4.555960   \n",
            "\n",
            "                 V26            V27            V28         Amount  \n",
            "count  146087.000000  146087.000000  146087.000000  146087.000000  \n",
            "mean       -0.015199       0.006236       0.002035      66.182463  \n",
            "std         0.446154       0.255935       0.174613     153.151535  \n",
            "min        -1.743223      -9.412538      -8.262339       0.000000  \n",
            "25%        -0.284914      -0.066037      -0.057447       5.990000  \n",
            "50%        -0.069342      -0.003539      -0.026955      21.790000  \n",
            "75%         0.216632       0.069334       0.066954      66.000000  \n",
            "max         3.374748      12.673968      13.093229    4630.600000  \n",
            "\n",
            "[8 rows x 31 columns]\n"
          ]
        }
      ]
    },
    {
      "cell_type": "code",
      "source": [
        "obj = (train_data.dtypes == 'object')\n",
        "object_cols = list(obj[obj].index)\n",
        "print(\"Categorical variables:\", len(object_cols))\n",
        "\n",
        "int_ = (train_data.dtypes == 'int')\n",
        "num_cols = list(int_[int_].index)\n",
        "print(\"Integer variables:\", len(num_cols))\n",
        "\n",
        "fl = (train_data.dtypes == 'float')\n",
        "fl_cols = list(fl[fl].index)\n",
        "print(\"Float variables:\", len(fl_cols))"
      ],
      "metadata": {
        "colab": {
          "base_uri": "https://localhost:8080/"
        },
        "id": "UNV2hyKSD4F-",
        "outputId": "06c26f79-030b-4674-c954-6bad6e912dce"
      },
      "execution_count": null,
      "outputs": [
        {
          "output_type": "stream",
          "name": "stdout",
          "text": [
            "Categorical variables: 0\n",
            "Integer variables: 2\n",
            "Float variables: 30\n"
          ]
        }
      ]
    },
    {
      "cell_type": "code",
      "source": [
        "fraud = train_data[train_data['Class'] == 1]\n",
        "valid = train_data[train_data['Class'] == 0]\n",
        "outlierFraction = len(fraud)/float(len(valid))\n",
        "print(outlierFraction)\n",
        "print('\"Fraud Cases:\" {}'.format(len(train_data[train_data['Class'] == 1])))\n",
        "print('\"Valid Transactions:\" {}'.format(len(train_data[train_data['Class'] == 0])))"
      ],
      "metadata": {
        "colab": {
          "base_uri": "https://localhost:8080/"
        },
        "id": "P9CSa3uREllM",
        "outputId": "8c40e3c2-9cf6-4008-c144-ba7fa75cd610"
      },
      "execution_count": null,
      "outputs": [
        {
          "output_type": "stream",
          "name": "stdout",
          "text": [
            "0.002144882465928839\n",
            "\"Fraud Cases:\" 469\n",
            "\"Valid Transactions:\" 218660\n"
          ]
        }
      ]
    },
    {
      "cell_type": "code",
      "source": [
        "print(\" Details of the fraud transaction\")\n",
        "fraud.Amount.describe()"
      ],
      "metadata": {
        "colab": {
          "base_uri": "https://localhost:8080/"
        },
        "id": "uliQnfLiE6c5",
        "outputId": "41fcc70f-eceb-463d-ee37-6a79dd2c7054"
      },
      "execution_count": null,
      "outputs": [
        {
          "output_type": "stream",
          "name": "stdout",
          "text": [
            " Details of the fraud transaction\n"
          ]
        },
        {
          "output_type": "execute_result",
          "data": {
            "text/plain": [
              "count     469.000000\n",
              "mean      108.391002\n",
              "std       376.603036\n",
              "min         0.000000\n",
              "25%         1.000000\n",
              "50%         8.760000\n",
              "75%        39.950000\n",
              "max      4471.960000\n",
              "Name: Amount, dtype: float64"
            ]
          },
          "metadata": {},
          "execution_count": 35
        }
      ]
    },
    {
      "cell_type": "code",
      "source": [
        "print(\"Details of valid transaction\")\n",
        "valid.Amount.describe()"
      ],
      "metadata": {
        "colab": {
          "base_uri": "https://localhost:8080/"
        },
        "id": "kDjIB5-iE-hp",
        "outputId": "b22fbf67-08fb-4c87-942b-143d1b15efb3"
      },
      "execution_count": null,
      "outputs": [
        {
          "output_type": "stream",
          "name": "stdout",
          "text": [
            "Details of valid transaction\n"
          ]
        },
        {
          "output_type": "execute_result",
          "data": {
            "text/plain": [
              "count    218660.000000\n",
              "mean         66.269651\n",
              "std         149.935158\n",
              "min           0.000000\n",
              "25%           5.990000\n",
              "50%          21.900000\n",
              "75%          68.970000\n",
              "max        7475.000000\n",
              "Name: Amount, dtype: float64"
            ]
          },
          "metadata": {},
          "execution_count": 36
        }
      ]
    },
    {
      "cell_type": "code",
      "source": [
        "# Correlation matrix\n",
        "corrmat = train_data.corr()\n",
        "fig = plt.figure(figsize = (12, 9))\n",
        "sns.heatmap(corrmat, vmax = .8, square = True)\n",
        "plt.show()"
      ],
      "metadata": {
        "colab": {
          "base_uri": "https://localhost:8080/",
          "height": 799
        },
        "id": "14JxMz7uFDsj",
        "outputId": "96c74a1b-ed4a-44f6-cfd4-2dbcd1e21eca"
      },
      "execution_count": null,
      "outputs": [
        {
          "output_type": "display_data",
          "data": {
            "text/plain": [
              "<Figure size 1200x900 with 2 Axes>"
            ],
            "image/png": "[encoded data removed]"
          },
          "metadata": {}
        }
      ]
    },
    {
      "cell_type": "code",
      "source": [
        "train_inputs = train_data.drop(['id', 'Time', 'Amount', 'Class'], axis=1)\n",
        "train_outputs = train_data['Class']\n",
        "# Extracting the input parameters\n",
        "test_inputs = test_data.drop(['id', 'Time', 'Amount'], axis=1)\n",
        "# Split the train dataset into train and validation datasets\n",
        "train_inputs, val_inputs, train_outputs, val_outputs = train_test_split(train_inputs, train_outputs, test_size=0.2, random_state=49)\n",
        "\n",
        "# Shapes of the datasets\n",
        "print(\"Train Input Shape:\", train_inputs.shape)\n",
        "print(\"Train Output Shape:\", train_outputs.shape)\n",
        "print(\"Validation Input Shape:\", val_inputs.shape)\n",
        "print(\"Validation Output Shape:\", val_outputs.shape)\n",
        "print(\"Test Input Shape:\", test_inputs.shape)\n"
      ],
      "metadata": {
        "colab": {
          "base_uri": "https://localhost:8080/"
        },
        "id": "N0LoUDSPHlmt",
        "outputId": "4f17708d-299f-4a47-8b90-797b4d37b0be"
      },
      "execution_count": null,
      "outputs": [
        {
          "output_type": "stream",
          "name": "stdout",
          "text": [
            "Train Input Shape: (175303, 28)\n",
            "Train Output Shape: (175303,)\n",
            "Validation Input Shape: (43826, 28)\n",
            "Validation Output Shape: (43826,)\n",
            "Test Input Shape: (146087, 28)\n"
          ]
        }
      ]
    },
    {
      "cell_type": "markdown",
      "source": [
        "we get the file of test_predictions"
      ],
      "metadata": {
        "id": "8MIhCq1th53X"
      }
    },
    {
      "cell_type": "code",
      "source": [
        "# Separate features and target variable\n",
        "train_features = train_data.drop(['id', 'Time', 'Class'], axis=1)\n",
        "train_target = train_data['Class']\n",
        "\n",
        "# Split the train dataset in validation set\n",
        "X_train, X_val, y_train, y_val = train_test_split(train_features, train_target, test_size=0.2, random_state=49)\n",
        "\n",
        "\n",
        "random_forest = RandomForestClassifier(n_estimators=100, random_state=42)\n",
        "random_forest.fit(X_train, y_train)\n",
        "\n",
        "\n",
        "y_val_pred = random_forest.predict(X_val)\n",
        "\n",
        "accuracy = (y_val_pred == y_val).mean()\n",
        "print(\"Validation Accuracy:\", accuracy)\n",
        "\n",
        "\n",
        "X_test = test_data.drop(['id', 'Time'], axis=1)\n",
        "\n",
        "\n",
        "test_predictions = random_forest.predict(X_test)\n",
        "\n",
        "\n",
        "test_predictions_df = pd.DataFrame({'id': test_data['id'], 'Class': test_predictions})\n",
        "\n",
        "test_predictions_df.to_csv('test_predictions.csv', index=False)\n"
      ],
      "metadata": {
        "colab": {
          "base_uri": "https://localhost:8080/"
        },
        "id": "L3ES7BzWN06H",
        "outputId": "519c25cf-fec4-47c1-aedc-95eb597d150b"
      },
      "execution_count": null,
      "outputs": [
        {
          "output_type": "stream",
          "name": "stdout",
          "text": [
            "Validation Accuracy: 0.9976041619130197\n"
          ]
        }
      ]
    },
    {
      "cell_type": "code",
      "source": [
        "X_train = train_data.drop('Class', axis=1)\n",
        "y_train = train_data['Class']\n",
        "\n",
        "# logistic regression model\n",
        "model = LogisticRegression()\n",
        "model.fit(X_train, y_train)\n",
        "\n",
        "\n",
        "X_test = test_data\n",
        "y_pred = model.predict(X_test)\n",
        "\n",
        "print(y_pred)\n"
      ],
      "metadata": {
        "colab": {
          "base_uri": "https://localhost:8080/"
        },
        "id": "mzTYQBhANGGp",
        "outputId": "59188fbe-bdb0-4bbb-e5c8-00313a8faee2"
      },
      "execution_count": null,
      "outputs": [
        {
          "output_type": "stream",
          "name": "stdout",
          "text": [
            "[0 0 0 ... 0 0 0]\n"
          ]
        }
      ]
    },
    {
      "cell_type": "code",
      "source": [
        "# Separate features and target variable\n",
        "train_features = train_data.drop(['id', 'Time', 'Class'], axis=1)\n",
        "train_target = train_data['Class']\n",
        "\n",
        "X_train, X_val, y_train, y_val = train_test_split(train_features, train_target, test_size=0.2, random_state=42)\n",
        "\n",
        "# Training  random forest\n",
        "random_forest = RandomForestClassifier(n_estimators=100, random_state=42)\n",
        "random_forest.fit(X_train, y_train)\n",
        "\n",
        "\n",
        "y_val_pred = random_forest.predict(X_val)\n",
        "\n",
        "\n",
        "confusion_mat = confusion_matrix(y_val, y_val_pred)\n",
        "print(\"Confusion Matrix:\")\n",
        "print(confusion_mat)\n"
      ],
      "metadata": {
        "colab": {
          "base_uri": "https://localhost:8080/"
        },
        "id": "OEMVOr0QTl0y",
        "outputId": "a77fdd18-dc0f-4d47-f486-3daa03686a1e"
      },
      "execution_count": null,
      "outputs": [
        {
          "output_type": "stream",
          "name": "stdout",
          "text": [
            "Confusion Matrix:\n",
            "[[43721     1]\n",
            " [  104     0]]\n"
          ]
        }
      ]
    },
    {
      "cell_type": "markdown",
      "source": [
        "Confusion Matrix: We can nalyze the performance"
      ],
      "metadata": {
        "id": "bviwrTA6f_rG"
      }
    },
    {
      "cell_type": "code",
      "source": [
        "train_features = train_data.drop(['id', 'Time', 'Class'], axis=1)\n",
        "train_target = train_data['Class']\n",
        "\n",
        "\n",
        "X_train, X_val, y_train, y_val = train_test_split(train_features, train_target, test_size=0.2, random_state=42)\n",
        "\n",
        "\n",
        "random_forest = RandomForestClassifier(n_estimators=100, random_state=42)\n",
        "random_forest.fit(X_train, y_train)\n",
        "\n",
        "\n",
        "y_val_pred = random_forest.predict(X_val)\n",
        "\n",
        "\n",
        "confusion_mat = confusion_matrix(y_val, y_val_pred)\n",
        "\n",
        "sns.heatmap(confusion_mat, annot=True, fmt='d', cmap='Blues')\n",
        "plt.title('Confusion Matrix')\n",
        "plt.xlabel('Predicted Labels')\n",
        "plt.ylabel('True Labels')\n",
        "plt.show()\n",
        "\n",
        "#True Positives (TP): 0\n",
        "#True Negatives (TN): 43721\n",
        "#False Positives (FP): 1\n",
        "#False Negatives (FN): 104\n"
      ],
      "metadata": {
        "colab": {
          "base_uri": "https://localhost:8080/",
          "height": 472
        },
        "id": "tnKf4IOGY_sj",
        "outputId": "ca2a9e97-d634-4a72-accd-0ddab9f3518d"
      },
      "execution_count": null,
      "outputs": [
        {
          "output_type": "display_data",
          "data": {
            "text/plain": [
              "<Figure size 640x480 with 2 Axes>"
            ],
            "image/png": "[encoded data removed]"
          },
          "metadata": {}
        }
      ]
    }
  ]
}